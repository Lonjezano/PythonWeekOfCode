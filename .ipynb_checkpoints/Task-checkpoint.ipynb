{
 "cells": [
  {
   "cell_type": "markdown",
   "id": "4fa39b5d",
   "metadata": {},
   "source": [
    "# Task\n",
    "\n",
    "### Task 1\n",
    "\n",
    "* Task 1 required us to Write a guessing game that guesses a number between 1 and 9. The user should be prompted to enter a guess. If the user guesses wrongly then the prompt appears again until the guess is correct. On successful guess, the user will get a “Well guessed!” message, and the programme should exit\n",
    "\n",
    "<code>\n",
    "import random\n",
    "number = random.randrange(1,9)\n",
    "count = 0\n",
    "guess = int(input(\"Guess a number between 1 and 9 : \"))\n",
    "while (number != guess):\n",
    "    if guess > 9 or guess == 0:\n",
    "        guess = int(input(\"Please enter a number beteen 1 and 9 : \"))\n",
    "        count +=1\n",
    "    else:\n",
    "        guess = int(input(\"Wrong guess, please try again : \"))\n",
    "        count +=1\n",
    "print(f\"You guessed correctly after {count} tries \\nThank you for playing\")\n",
    "exit()\n",
    "        </code>"
   ]
  },
  {
   "cell_type": "code",
   "execution_count": 2,
   "id": "bfcfdc6b",
   "metadata": {},
   "outputs": [
    {
     "name": "stdout",
     "output_type": "stream",
     "text": [
      "Guess a number between 1 and 9 : 1\n",
      "Wrong guess, please try again : 2\n",
      "Wrong guess, please try again : 3\n",
      "Wrong guess, please try again : 6\n",
      "Wrong guess, please try again : 4\n",
      "You guessed correctly after 5 tries \n",
      "Thank you for playing\n"
     ]
    }
   ],
   "source": [
    "import random\n",
    "\n",
    "number = random.randrange(1,9)\n",
    "count = 1\n",
    "\n",
    "\n",
    "guess = int(input(\"Guess a number between 1 and 9 : \"))\n",
    "\n",
    "while (number != guess):\n",
    "    if guess > 9 or guess == 0:\n",
    "        guess = int(input(\"Please enter a number beteen 1 and 9 : \"))\n",
    "        count +=1\n",
    "    else:\n",
    "        guess = int(input(\"Wrong guess, please try again : \"))\n",
    "        count +=1\n",
    "\n",
    "if count == 1:\n",
    "    print(f\"You guessed correctly on first try\\nThank you for playing\")\n",
    "else:\n",
    "    print(f\"You guessed correctly after {count} tries \\nThank you for playing\")"
   ]
  },
  {
   "cell_type": "markdown",
   "id": "1975b692",
   "metadata": {},
   "source": [
    "## Task 2\n",
    "* Task 2 required that we write a program to accept the cost price of a bike and display the road tax to be paid according to the following criteria:\n",
    "    Cost price (in Rs)\t\t\t\tTax\n",
    "    >100,000\t\t\t\t\t15%\n",
    "    >50,000 and <=100,000\t\t\t10%\n",
    "    <=50,000\t\t\t\t\t5%\n",
    "            \n",
    "<code>\n",
    "def tax(x):\n",
    "    if x > 100000:\n",
    "        tax = x*15 / 100\n",
    "    elif x > 50000 and x <= 100000:\n",
    "        tax = x*10 / 100\n",
    "    else:\n",
    "        tax = x*5 / 100\n",
    "    return int(tax)\n",
    "price = int(input(\"Enter the bike price : \"))\n",
    "print(f\"the amount of tax to be paid is {tax(price)}\")\n",
    "</code>"
   ]
  },
  {
   "cell_type": "code",
   "execution_count": 3,
   "id": "a070423a",
   "metadata": {},
   "outputs": [
    {
     "name": "stdout",
     "output_type": "stream",
     "text": [
      "Enter the bike price : 102000\n",
      "the amount of tax to be paid is 15300\n"
     ]
    }
   ],
   "source": [
    "def tax(x):\n",
    "    if x > 100000:\n",
    "        tax = x*15 / 100\n",
    "    elif x > 50000 and x <= 100000:\n",
    "        tax = x*10 / 100\n",
    "    else:\n",
    "        tax = x*5 / 100\n",
    "    return int(tax)\n",
    "price = int(input(\"Enter the bike price : \"))\n",
    "print(f\"the amount of tax to be paid is {tax(price)}\")"
   ]
  },
  {
   "cell_type": "markdown",
   "id": "2c10c611",
   "metadata": {},
   "source": [
    " # By Lonjezo Chingayipe\n",
    " ## Python week of code"
   ]
  },
  {
   "cell_type": "code",
   "execution_count": null,
   "id": "ceb1dba9",
   "metadata": {},
   "outputs": [],
   "source": []
  }
 ],
 "metadata": {
  "kernelspec": {
   "display_name": "Python 3 (ipykernel)",
   "language": "python",
   "name": "python3"
  },
  "language_info": {
   "codemirror_mode": {
    "name": "ipython",
    "version": 3
   },
   "file_extension": ".py",
   "mimetype": "text/x-python",
   "name": "python",
   "nbconvert_exporter": "python",
   "pygments_lexer": "ipython3",
   "version": "3.8.10"
  }
 },
 "nbformat": 4,
 "nbformat_minor": 5
}
